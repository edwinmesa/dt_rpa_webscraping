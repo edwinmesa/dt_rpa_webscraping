{
 "cells": [
  {
   "cell_type": "code",
   "execution_count": null,
   "metadata": {},
   "outputs": [],
   "source": [
    "from RPA.Desktop.Windows import Windows\n",
    "from RPA.Desktop import Desktop\n",
    "import time\n",
    "win = Windows()\n",
    "desktop = Desktop()"
   ]
  },
  {
   "cell_type": "code",
   "execution_count": null,
   "metadata": {},
   "outputs": [],
   "source": [
    "def ClickNacho():\n",
    "    click1 = win.mouse_click_coords(274, 207,\"click\", 5.0)\n",
    "    click2 = win.mouse_click_coords(90, 355,\"click\", 5.0)\n",
    "    click3 = win.mouse_click_coords(30, 266,\"click\", 5.0)\n",
    "    key1   = win.send_keys('down')\n",
    "ClickNacho()    "
   ]
  },
  {
   "cell_type": "code",
   "execution_count": null,
   "metadata": {},
   "outputs": [],
   "source": [
    "# def makeConnection(expression):\n",
    "#     result = win.mouse_click_coords(287, 147,\"click\", 5.0)\n",
    "#     return win.send_keys(expression)\n"
   ]
  }
 ],
 "metadata": {
  "kernelspec": {
   "display_name": "venvimg",
   "language": "python",
   "name": "python3"
  },
  "language_info": {
   "codemirror_mode": {
    "name": "ipython",
    "version": 3
   },
   "file_extension": ".py",
   "mimetype": "text/x-python",
   "name": "python",
   "nbconvert_exporter": "python",
   "pygments_lexer": "ipython3",
   "version": "3.10.8 (tags/v3.10.8:aaaf517, Oct 11 2022, 16:50:30) [MSC v.1933 64 bit (AMD64)]"
  },
  "orig_nbformat": 4,
  "vscode": {
   "interpreter": {
    "hash": "9af664887e86d7f0d817e36ed0f8bd177f6d406f89cac0874c283298ac904e95"
   }
  }
 },
 "nbformat": 4,
 "nbformat_minor": 2
}
